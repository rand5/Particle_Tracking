{
 "cells": [
  {
   "cell_type": "code",
   "execution_count": 3,
   "metadata": {
    "collapsed": false
   },
   "outputs": [],
   "source": [
    "using DataFrames\n",
    "using PlotlyJS"
   ]
  },
  {
   "cell_type": "code",
   "execution_count": 4,
   "metadata": {
    "collapsed": false
   },
   "outputs": [
    {
     "name": "stderr",
     "output_type": "stream",
     "text": [
      "WARNING: Method definition Org_LinFit_csv_LsqFit_multifile(String) in module Main at C:\\Users\\Cm7045\\Org_LinFit_csv_LsqFit_multifile.jl:28 overwritten at C:\\Users\\Cm7045\\Org_LinFit_csv_LsqFit_multifile.jl:28.\n",
      "WARNING: Method definition #Org_LinFit_csv_LsqFit_multifile(Array{Any, 1}, Main.#Org_LinFit_csv_LsqFit_multifile, String) in module Main overwritten.\n",
      "\u001b[1m\u001b[31mWARNING: replacing docs for 'Org_LinFit_csv_LsqFit_multifile :: Tuple{String}' in module 'Main'.\u001b[0m\n",
      "WARNING: Method definition "
     ]
    },
    {
     "data": {
      "text/plain": [
       "FitFunc (generic function with 1 method)"
      ]
     },
     "execution_count": 4,
     "metadata": {},
     "output_type": "execute_result"
    },
    {
     "name": "stderr",
     "output_type": "stream",
     "text": [
      "FitFunc(String, String, String) in module Main at C:\\Users\\Cm7045\\Org_LinFit_csv_LsqFit_multifile.jl:79 overwritten at C:\\Users\\Cm7045\\Org_LinFit_csv_LsqFit_multifile.jl:79.\n",
      "WARNING: Method definition #FitFunc(Array{Any, 1}, Main.#FitFunc, String, String, String) in module Main overwritten.\n"
     ]
    }
   ],
   "source": [
    "include(\"C:\\\\Users\\\\Cm7045\\\\Org_LinFit_csv_LsqFit_multifile.jl\")"
   ]
  },
  {
   "cell_type": "code",
   "execution_count": 83,
   "metadata": {
    "collapsed": false
   },
   "outputs": [
    {
     "data": {
      "text/plain": [
       "\"F:\\\\2015 Sep 1 AM data\\\\DF_data_B6P39.csv\""
      ]
     },
     "execution_count": 83,
     "metadata": {},
     "output_type": "execute_result"
    }
   ],
   "source": [
    "prefix = \"F:\\\\2015 Sep 1 AM data\\\\\"\n",
    "pref = \"F:\\\\2015 Sep 1 AM data\"\n",
    "wellID = \"B6P39\"\n",
    "file_path_name = string(prefix,\"DF_data_\",wellID,\".csv\")"
   ]
  },
  {
   "cell_type": "code",
   "execution_count": 84,
   "metadata": {
    "collapsed": false
   },
   "outputs": [
    {
     "data": {
      "text/html": [
       "<script src=\"C:\\Users\\Cm7045\\.julia\\v0.5\\Plots\\src\\backends\\..\\..\\deps\\plotly-latest.min.js\"></script>    <div id=\"d2376ddd-e230-42bc-87a0-8d0c84263954\" style=\"width:600px;height:400px;\"></div>\n",
       "    <script>\n",
       "    PLOT = document.getElementById('d2376ddd-e230-42bc-87a0-8d0c84263954');\n",
       "    Plotly.plot(PLOT, [{\"yaxis\":\"y\",\"y\":[1.0,1.0281173200782179,1.0326463621091293,1.0329527562216114,1.036379994138828,1.033203337671068,1.032948177830516,1.0244480304804713,1.016455162343536,1.0262054054041831,1.0373732445974706,1.0296900953687826,1.0405718075257715,1.0087388773586667,1.0018142760175337,1.0114271573069997,1.5969211051353063,1.506043022156629,0.9638867152625993,1.7964746727984238,1.6001393853144459,1.9614710378760767,0.9940310598216711,2.3257951012461304,2.4079679839894754,1.4372505548347088,1.9144484620738726,2.5816795479619654,2.47810181431445,2.8371450038366004,3.375535542733272,3.3751196765398803],\"showlegend\":true,\"name\":\"Norm. Data\",\"type\":\"scatter\",\"xaxis\":\"x\",\"x\":[1.0,2.0,3.0,4.0,5.0,6.0,7.0,8.0,9.0,10.0,11.0,12.0,13.0,14.0,15.0,16.0,17.0,18.0,19.0,20.0,21.0,22.0,23.0,24.0,25.0,26.0,27.0,28.0,29.0,30.0,31.0,32.0],\"mode\":\"markers\",\"marker\":{\"symbol\":\"circle\",\"line\":{\"width\":1,\"color\":\"rgba(0, 0, 0, 1.000)\"},\"size\":8,\"color\":\"rgba(0, 154, 250, 1.000)\"}}], {\"yaxis\":{\"type\":\"-\",\"titlefont\":{\"size\":15,\"color\":\"rgba(0, 0, 0, 1.000)\",\"family\":\"sans-serif\"},\"title\":\"Organoid Size\",\"tickfont\":{\"size\":11,\"color\":\"rgba(0, 0, 0, 1.000)\",\"family\":\"sans-serif\"},\"ticks\":\"inside\",\"tickmode\":\"array\",\"showgrid\":true,\"tickvals\":[1.0,2.0,3.0],\"domain\":[0.07581474190726165,0.9415463692038496],\"ticktext\":[\"1\",\"2\",\"3\"],\"tickangle\":0,\"zeroline\":false,\"linecolor\":\"rgba(0, 0, 0, 1.000)\",\"tickcolor\":\"rgba(0, 0, 0, 1.000)\",\"anchor\":\"x\"},\"annotations\":[{\"text\":\"DF_data_B6P39.csv\",\"y\":1.0,\"xref\":\"paper\",\"font\":{\"size\":20,\"color\":\"rgba(0, 0, 0, 1.000)\",\"family\":\"sans-serif\"},\"xanchor\":\"center\",\"x\":0.5201388888888888,\"yref\":\"paper\",\"showarrow\":false,\"yanchor\":\"top\",\"rotation\":-0.0}],\"width\":600,\"plot_bgcolor\":\"rgba(255, 255, 255, 1.000)\",\"showlegend\":true,\"legend\":{\"bgcolor\":\"rgba(255, 255, 255, 1.000)\",\"y\":1.0,\"font\":{\"size\":11,\"color\":\"rgba(0, 0, 0, 1.000)\",\"family\":\"sans-serif\"},\"bordercolor\":\"rgba(0, 0, 0, 1.000)\",\"x\":1.0},\"xaxis\":{\"type\":\"-\",\"titlefont\":{\"size\":15,\"color\":\"rgba(0, 0, 0, 1.000)\",\"family\":\"sans-serif\"},\"title\":\"Time (min)\",\"tickfont\":{\"size\":11,\"color\":\"rgba(0, 0, 0, 1.000)\",\"family\":\"sans-serif\"},\"ticks\":\"inside\",\"tickmode\":\"array\",\"showgrid\":true,\"tickvals\":[10.0,20.0,30.0],\"domain\":[0.04683945756780402,0.9934383202099739],\"ticktext\":[\"10\",\"20\",\"30\"],\"tickangle\":0,\"zeroline\":false,\"linecolor\":\"rgba(0, 0, 0, 1.000)\",\"tickcolor\":\"rgba(0, 0, 0, 1.000)\",\"anchor\":\"y\"},\"paper_bgcolor\":\"rgba(255, 255, 255, 1.000)\",\"height\":400,\"margin\":{\"r\":0,\"l\":0,\"b\":0,\"t\":20}});\n",
       "    </script>\n"
      ]
     },
     "metadata": {},
     "output_type": "display_data"
    },
    {
     "name": "stdout",
     "output_type": "stream",
     "text": [
      "InputFolderPath: F:\\2015 Sep 1 AM data\n",
      "OutputFolderPath: F:\\2015 Sep 1 AM data\\LinFit_Output\n",
      "Loading single file: DF_data_B6P39.csv\n",
      "Successfully loaded F:\\2015 Sep 1 AM data\\DF_data_B6P39.csv\n",
      "\n",
      "Input lower time bound for linear fit. Bounds are inclusive.\n",
      "STDIN> 1\n",
      "Input upper time bound for linear fit. Bounds are inclusive.\n",
      "STDIN> 16\n"
     ]
    },
    {
     "data": {
      "text/html": [
       "<script src=\"C:\\Users\\Cm7045\\.julia\\v0.5\\Plots\\src\\backends\\..\\..\\deps\\plotly-latest.min.js\"></script>    <div id=\"5705ccad-c3b1-4cc2-8824-ccb50b49a1b0\" style=\"width:600px;height:400px;\"></div>\n",
       "    <script>\n",
       "    PLOT = document.getElementById('5705ccad-c3b1-4cc2-8824-ccb50b49a1b0');\n",
       "    Plotly.plot(PLOT, [{\"yaxis\":\"y\",\"y\":[1.0,1.0281173200782179,1.0326463621091293,1.0329527562216114,1.036379994138828,1.033203337671068,1.032948177830516,1.0244480304804713,1.016455162343536,1.0262054054041831,1.0373732445974706,1.0296900953687826,1.0405718075257715,1.0087388773586667,1.0018142760175337,1.0114271573069997,1.5969211051353063,1.506043022156629,0.9638867152625993,1.7964746727984238,1.6001393853144459,1.9614710378760767,0.9940310598216711,2.3257951012461304,2.4079679839894754,1.4372505548347088,1.9144484620738726,2.5816795479619654,2.47810181431445,2.8371450038366004,3.375535542733272,3.3751196765398803],\"showlegend\":true,\"name\":\"Norm. Data\",\"type\":\"scatter\",\"xaxis\":\"x\",\"x\":[1.0,2.0,3.0,4.0,5.0,6.0,7.0,8.0,9.0,10.0,11.0,12.0,13.0,14.0,15.0,16.0,17.0,18.0,19.0,20.0,21.0,22.0,23.0,24.0,25.0,26.0,27.0,28.0,29.0,30.0,31.0,32.0],\"mode\":\"markers\",\"marker\":{\"symbol\":\"circle\",\"line\":{\"width\":1,\"color\":\"rgba(0, 0, 0, 1.000)\"},\"size\":8,\"color\":\"rgba(0, 154, 250, 1.000)\"}},{\"yaxis\":\"y\",\"y\":[1.0,1.0281173200782179,1.0326463621091293,1.0329527562216114,1.036379994138828,1.033203337671068,1.032948177830516,1.0244480304804713,1.016455162343536,1.0262054054041831,1.0373732445974706,1.0296900953687826,1.0405718075257715,1.0087388773586667,1.0018142760175337,1.0114271573069997],\"showlegend\":true,\"name\":\"trimmed\",\"type\":\"scatter\",\"xaxis\":\"x\",\"x\":[1.0,2.0,3.0,4.0,5.0,6.0,7.0,8.0,9.0,10.0,11.0,12.0,13.0,14.0,15.0,16.0],\"mode\":\"markers\",\"marker\":{\"symbol\":\"circle\",\"line\":{\"width\":1,\"color\":\"rgba(0, 0, 0, 1.000)\"},\"size\":8,\"color\":\"rgba(255, 0, 0, 1.000)\"}},{\"yaxis\":\"y\",\"y\":[1.0291836623283939,1.0199378382282043],\"showlegend\":true,\"name\":\"Linear Fit\",\"type\":\"scatter\",\"xaxis\":\"x\",\"line\":{\"width\":2,\"dash\":\"dot\",\"color\":\"rgba(0, 0, 0, 1.000)\",\"shape\":\"linear\"},\"x\":[1.0,16.0],\"mode\":\"lines\"}], {\"yaxis\":{\"type\":\"-\",\"titlefont\":{\"size\":15,\"color\":\"rgba(0, 0, 0, 1.000)\",\"family\":\"sans-serif\"},\"title\":\"Organoid Size\",\"tickfont\":{\"size\":11,\"color\":\"rgba(0, 0, 0, 1.000)\",\"family\":\"sans-serif\"},\"ticks\":\"inside\",\"tickmode\":\"array\",\"showgrid\":true,\"tickvals\":[1.0,2.0,3.0],\"domain\":[0.07581474190726165,0.9415463692038496],\"ticktext\":[\"1\",\"2\",\"3\"],\"tickangle\":0,\"zeroline\":false,\"linecolor\":\"rgba(0, 0, 0, 1.000)\",\"tickcolor\":\"rgba(0, 0, 0, 1.000)\",\"anchor\":\"x\"},\"annotations\":[{\"text\":\"DF_data_B6P39.csv\",\"y\":1.0,\"xref\":\"paper\",\"font\":{\"size\":20,\"color\":\"rgba(0, 0, 0, 1.000)\",\"family\":\"sans-serif\"},\"xanchor\":\"center\",\"x\":0.5201388888888888,\"yref\":\"paper\",\"showarrow\":false,\"yanchor\":\"top\",\"rotation\":-0.0}],\"width\":600,\"plot_bgcolor\":\"rgba(255, 255, 255, 1.000)\",\"showlegend\":true,\"legend\":{\"bgcolor\":\"rgba(255, 255, 255, 1.000)\",\"y\":1.0,\"font\":{\"size\":11,\"color\":\"rgba(0, 0, 0, 1.000)\",\"family\":\"sans-serif\"},\"bordercolor\":\"rgba(0, 0, 0, 1.000)\",\"x\":1.0},\"xaxis\":{\"type\":\"-\",\"titlefont\":{\"size\":15,\"color\":\"rgba(0, 0, 0, 1.000)\",\"family\":\"sans-serif\"},\"title\":\"Time (min)\",\"tickfont\":{\"size\":11,\"color\":\"rgba(0, 0, 0, 1.000)\",\"family\":\"sans-serif\"},\"ticks\":\"inside\",\"tickmode\":\"array\",\"showgrid\":true,\"tickvals\":[10.0,20.0,30.0],\"domain\":[0.04683945756780402,0.9934383202099739],\"ticktext\":[\"10\",\"20\",\"30\"],\"tickangle\":0,\"zeroline\":false,\"linecolor\":\"rgba(0, 0, 0, 1.000)\",\"tickcolor\":\"rgba(0, 0, 0, 1.000)\",\"anchor\":\"y\"},\"paper_bgcolor\":\"rgba(255, 255, 255, 1.000)\",\"height\":400,\"margin\":{\"r\":0,\"l\":0,\"b\":0,\"t\":20}});\n",
       "    </script>\n"
      ]
     },
     "metadata": {},
     "output_type": "display_data"
    }
   ],
   "source": [
    "Org_LinFit_csv_LsqFit_multifile(file_path_name;lb=0,ub=0,ShowFig=true,norm=true,Auto=false)"
   ]
  },
  {
   "cell_type": "code",
   "execution_count": 101,
   "metadata": {
    "collapsed": false
   },
   "outputs": [
    {
     "data": {
      "application/vnd.plotly.v1+json": "{\"layout\":{\"yaxis\":{\"title\":\"Rate of Swelling\"},\"margin\":{\"r\":50,\"l\":80,\"b\":50,\"t\":60,\"pad\":0}},\"data\":[{\"y\":[-0.003277982194447367,0.010592453217072053,0.01641251263118261,0.023062023093308102,0.0036819528356498493,0.004596469874328077,0.013075279999184529,0.011582466156692877],\"name\":\"A4\",\"type\":\"box\",\"boxpoints\":\"all\"},{\"y\":[0.0058842729437888685,0.004205553206126686,0.002528932800442257,0.019755091334665294,-0.0008554310484928844,0.006042808050310238],\"name\":\"A6\",\"type\":\"box\",\"boxpoints\":\"all\"},{\"y\":[0.0007033317117660799,0.005266731288854772,0.003231614421290796,0.0021707668234577453],\"name\":\"B4\",\"type\":\"box\",\"boxpoints\":\"all\"},{\"y\":[0.0022215101357668725,-0.0006163882733459819],\"name\":\"B6\",\"type\":\"box\",\"boxpoints\":\"all\"}]}",
      "text/html": [
       "<div id=\"eb38e7a5-8c1d-4734-b437-2ee111e05f7d\" class=\"plotly-graph-div\"></div>\n",
       "\n",
       "<script>\n",
       "    window.PLOTLYENV=window.PLOTLYENV || {};\n",
       "    window.PLOTLYENV.BASE_URL=\"https://plot.ly\";\n",
       "    require(['plotly'], function(Plotly) {\n",
       "        Plotly.newPlot('eb38e7a5-8c1d-4734-b437-2ee111e05f7d', [{\"y\":[-0.003277982194447367,0.010592453217072053,0.01641251263118261,0.023062023093308102,0.0036819528356498493,0.004596469874328077,0.013075279999184529,0.011582466156692877],\"name\":\"A4\",\"type\":\"box\",\"boxpoints\":\"all\"},{\"y\":[0.0058842729437888685,0.004205553206126686,0.002528932800442257,0.019755091334665294,-0.0008554310484928844,0.006042808050310238],\"name\":\"A6\",\"type\":\"box\",\"boxpoints\":\"all\"},{\"y\":[0.0007033317117660799,0.005266731288854772,0.003231614421290796,0.0021707668234577453],\"name\":\"B4\",\"type\":\"box\",\"boxpoints\":\"all\"},{\"y\":[0.0022215101357668725,-0.0006163882733459819],\"name\":\"B6\",\"type\":\"box\",\"boxpoints\":\"all\"}],\n",
       "               {\"yaxis\":{\"title\":\"Rate of Swelling\"},\"margin\":{\"r\":50,\"l\":80,\"b\":50,\"t\":60,\"pad\":0}}, {showLink: false});\n",
       "\n",
       "    });\n",
       " </script>\n"
      ]
     },
     "execution_count": 101,
     "metadata": {},
     "output_type": "execute_result"
    }
   ],
   "source": [
    "pnew = joinpath(pref,\"LinFit_Output\")\n",
    "Files = filter!(r\".+stats.csv$\",readdir(pnew))\n",
    "DF = DataFrame([String, String, String, String, Float64],[:Well, :Row, :Col, :Point, :Slope],length(Files))\n",
    "\n",
    "for k = 1:length(Files)\n",
    "    res = readtable(string(pnew,\"\\\\\",Files[k]),header=true)\n",
    "    m = match(r\".+_([A-Z]{1}[0-9]{1})(P[0-9]+[a-x]?)\",Files[k])\n",
    "    DF[k,:Well] = String(m.captures[1])\n",
    "    DF[k,:Point] = String(m.captures[2])\n",
    "    DF[k,:Slope] = res[2,:Slope]\n",
    "    \n",
    "    m = match(r\"([A-Z]{1})([0-9]+)\",DF[k,:Well])\n",
    "    DF[k,:Row] = String(m.captures[1])\n",
    "    DF[k,:Col] = String(m.captures[2])\n",
    "end\n",
    "\n",
    "U = unique(DF[:Well])\n",
    "data = GenericTrace[]\n",
    "data2 = GenericTrace[]\n",
    "for k = 1:length(U)\n",
    "    id = DF[:Well].==U[k]\n",
    "    trace = PlotlyJS.box(;y=DF[id,:Slope],boxpoints=\"all\",name=U[k])\n",
    "    push!(data,trace)\n",
    "    \n",
    "    trace2 = PlotlyJS.scatter(;x=(.5-.25*rand(sum(id)))+repmat([k],sum(id)),y=DF[id,:Slope],mode=\"markers\",marker_size=10,name=U[k],hove=\"text\",text=DF[id,:Point])\n",
    "    push!(data2,trace2)\n",
    "end\n",
    "layout = Layout(;yaxis_title=\"Rate of Swelling\",margin_l=80,margin_pad=0)\n",
    "plt1 = PlotlyJS.plot(data,layout)"
   ]
  },
  {
   "cell_type": "code",
   "execution_count": 102,
   "metadata": {
    "collapsed": false
   },
   "outputs": [
    {
     "data": {
      "application/vnd.plotly.v1+json": "{\"layout\":{\"margin\":{\"r\":50,\"l\":80,\"b\":50,\"t\":60,\"pad\":0}},\"data\":[{\"y\":[-0.003277982194447367,0.010592453217072053,0.01641251263118261,0.023062023093308102,0.0036819528356498493,0.004596469874328077,0.013075279999184529,0.011582466156692877],\"text\":[\"P22\",\"P23a\",\"P23b\",\"P24\",\"P25\",\"P26\",\"P27a\",\"P27b\"],\"name\":\"A4\",\"type\":\"scatter\",\"x\":[1.3643924778114447,1.392615181647032,1.493363952569449,1.2587036004708878,1.4991429525404016,1.4846917715865902,1.290779078679343,1.3559026823512066],\"hove\":\"text\",\"mode\":\"markers\",\"marker\":{\"size\":10}},{\"y\":[0.0058842729437888685,0.004205553206126686,0.002528932800442257,0.019755091334665294,-0.0008554310484928844,0.006042808050310238],\"text\":[\"P29\",\"P30\",\"P31\",\"P32\",\"P33\",\"P35\"],\"name\":\"A6\",\"type\":\"scatter\",\"x\":[2.483108268749439,2.33808741660999,2.4510586356191624,2.4057071206113467,2.4313916946530307,2.3357557234014634],\"hove\":\"text\",\"mode\":\"markers\",\"marker\":{\"size\":10}},{\"y\":[0.0007033317117660799,0.005266731288854772,0.003231614421290796,0.0021707668234577453],\"text\":[\"P40\",\"P41\",\"P42\",\"P43\"],\"name\":\"B4\",\"type\":\"scatter\",\"x\":[3.3207853267234873,3.4676384073108193,3.4707018230584206,3.3841905148200144],\"hove\":\"text\",\"mode\":\"markers\",\"marker\":{\"size\":10}},{\"y\":[0.0022215101357668725,-0.0006163882733459819],\"text\":[\"P36\",\"P39\"],\"name\":\"B6\",\"type\":\"scatter\",\"x\":[4.347870451640356,4.468165456018886],\"hove\":\"text\",\"mode\":\"markers\",\"marker\":{\"size\":10}}]}",
      "text/html": [
       "<div id=\"f8057394-177e-45d3-8bc1-6a48f06bcac9\" class=\"plotly-graph-div\"></div>\n",
       "\n",
       "<script>\n",
       "    window.PLOTLYENV=window.PLOTLYENV || {};\n",
       "    window.PLOTLYENV.BASE_URL=\"https://plot.ly\";\n",
       "    require(['plotly'], function(Plotly) {\n",
       "        Plotly.newPlot('f8057394-177e-45d3-8bc1-6a48f06bcac9', [{\"y\":[-0.003277982194447367,0.010592453217072053,0.01641251263118261,0.023062023093308102,0.0036819528356498493,0.004596469874328077,0.013075279999184529,0.011582466156692877],\"text\":[\"P22\",\"P23a\",\"P23b\",\"P24\",\"P25\",\"P26\",\"P27a\",\"P27b\"],\"name\":\"A4\",\"type\":\"scatter\",\"x\":[1.3643924778114447,1.392615181647032,1.493363952569449,1.2587036004708878,1.4991429525404016,1.4846917715865902,1.290779078679343,1.3559026823512066],\"hove\":\"text\",\"mode\":\"markers\",\"marker\":{\"size\":10}},{\"y\":[0.0058842729437888685,0.004205553206126686,0.002528932800442257,0.019755091334665294,-0.0008554310484928844,0.006042808050310238],\"text\":[\"P29\",\"P30\",\"P31\",\"P32\",\"P33\",\"P35\"],\"name\":\"A6\",\"type\":\"scatter\",\"x\":[2.483108268749439,2.33808741660999,2.4510586356191624,2.4057071206113467,2.4313916946530307,2.3357557234014634],\"hove\":\"text\",\"mode\":\"markers\",\"marker\":{\"size\":10}},{\"y\":[0.0007033317117660799,0.005266731288854772,0.003231614421290796,0.0021707668234577453],\"text\":[\"P40\",\"P41\",\"P42\",\"P43\"],\"name\":\"B4\",\"type\":\"scatter\",\"x\":[3.3207853267234873,3.4676384073108193,3.4707018230584206,3.3841905148200144],\"hove\":\"text\",\"mode\":\"markers\",\"marker\":{\"size\":10}},{\"y\":[0.0022215101357668725,-0.0006163882733459819],\"text\":[\"P36\",\"P39\"],\"name\":\"B6\",\"type\":\"scatter\",\"x\":[4.347870451640356,4.468165456018886],\"hove\":\"text\",\"mode\":\"markers\",\"marker\":{\"size\":10}}],\n",
       "               {\"margin\":{\"r\":50,\"l\":80,\"b\":50,\"t\":60,\"pad\":0}}, {showLink: false});\n",
       "\n",
       "    });\n",
       " </script>\n"
      ]
     },
     "execution_count": 102,
     "metadata": {},
     "output_type": "execute_result"
    }
   ],
   "source": [
    "plt2 = PlotlyJS.plot(data2)"
   ]
  },
  {
   "cell_type": "code",
   "execution_count": 103,
   "metadata": {
    "collapsed": false,
    "scrolled": true
   },
   "outputs": [
    {
     "data": {
      "text/html": [
       "<table class=\"data-frame\"><thead><tr><th></th><th>Well</th><th>Row</th><th>Col</th><th>Point</th><th>Slope</th></tr></thead><tbody><tr><th>1</th><td>A4</td><td>A</td><td>4</td><td>P22</td><td>-0.003277982194447367</td></tr><tr><th>2</th><td>A4</td><td>A</td><td>4</td><td>P23a</td><td>0.010592453217072053</td></tr><tr><th>3</th><td>A4</td><td>A</td><td>4</td><td>P23b</td><td>0.01641251263118261</td></tr><tr><th>4</th><td>A4</td><td>A</td><td>4</td><td>P24</td><td>0.023062023093308102</td></tr><tr><th>5</th><td>A4</td><td>A</td><td>4</td><td>P25</td><td>0.0036819528356498493</td></tr><tr><th>6</th><td>A4</td><td>A</td><td>4</td><td>P26</td><td>0.004596469874328077</td></tr><tr><th>7</th><td>A4</td><td>A</td><td>4</td><td>P27a</td><td>0.013075279999184529</td></tr><tr><th>8</th><td>A4</td><td>A</td><td>4</td><td>P27b</td><td>0.011582466156692877</td></tr><tr><th>9</th><td>A6</td><td>A</td><td>6</td><td>P29</td><td>0.0058842729437888685</td></tr><tr><th>10</th><td>A6</td><td>A</td><td>6</td><td>P30</td><td>0.004205553206126686</td></tr><tr><th>11</th><td>A6</td><td>A</td><td>6</td><td>P31</td><td>0.002528932800442257</td></tr><tr><th>12</th><td>A6</td><td>A</td><td>6</td><td>P32</td><td>0.019755091334665294</td></tr><tr><th>13</th><td>A6</td><td>A</td><td>6</td><td>P33</td><td>-0.0008554310484928844</td></tr><tr><th>14</th><td>A6</td><td>A</td><td>6</td><td>P35</td><td>0.006042808050310238</td></tr><tr><th>15</th><td>B4</td><td>B</td><td>4</td><td>P40</td><td>0.0007033317117660799</td></tr><tr><th>16</th><td>B4</td><td>B</td><td>4</td><td>P41</td><td>0.005266731288854772</td></tr><tr><th>17</th><td>B4</td><td>B</td><td>4</td><td>P42</td><td>0.003231614421290796</td></tr><tr><th>18</th><td>B4</td><td>B</td><td>4</td><td>P43</td><td>0.0021707668234577453</td></tr><tr><th>19</th><td>B6</td><td>B</td><td>6</td><td>P36</td><td>0.0022215101357668725</td></tr><tr><th>20</th><td>B6</td><td>B</td><td>6</td><td>P39</td><td>-0.0006163882733459819</td></tr></tbody></table>"
      ],
      "text/plain": [
       "20×5 DataFrames.DataFrame\n",
       "│ Row │ Well │ Row │ Col │ Point  │ Slope        │\n",
       "├─────┼──────┼─────┼─────┼────────┼──────────────┤\n",
       "│ 1   │ \"A4\" │ \"A\" │ \"4\" │ \"P22\"  │ -0.00327798  │\n",
       "│ 2   │ \"A4\" │ \"A\" │ \"4\" │ \"P23a\" │ 0.0105925    │\n",
       "│ 3   │ \"A4\" │ \"A\" │ \"4\" │ \"P23b\" │ 0.0164125    │\n",
       "│ 4   │ \"A4\" │ \"A\" │ \"4\" │ \"P24\"  │ 0.023062     │\n",
       "│ 5   │ \"A4\" │ \"A\" │ \"4\" │ \"P25\"  │ 0.00368195   │\n",
       "│ 6   │ \"A4\" │ \"A\" │ \"4\" │ \"P26\"  │ 0.00459647   │\n",
       "│ 7   │ \"A4\" │ \"A\" │ \"4\" │ \"P27a\" │ 0.0130753    │\n",
       "│ 8   │ \"A4\" │ \"A\" │ \"4\" │ \"P27b\" │ 0.0115825    │\n",
       "│ 9   │ \"A6\" │ \"A\" │ \"6\" │ \"P29\"  │ 0.00588427   │\n",
       "│ 10  │ \"A6\" │ \"A\" │ \"6\" │ \"P30\"  │ 0.00420555   │\n",
       "│ 11  │ \"A6\" │ \"A\" │ \"6\" │ \"P31\"  │ 0.00252893   │\n",
       "│ 12  │ \"A6\" │ \"A\" │ \"6\" │ \"P32\"  │ 0.0197551    │\n",
       "│ 13  │ \"A6\" │ \"A\" │ \"6\" │ \"P33\"  │ -0.000855431 │\n",
       "│ 14  │ \"A6\" │ \"A\" │ \"6\" │ \"P35\"  │ 0.00604281   │\n",
       "│ 15  │ \"B4\" │ \"B\" │ \"4\" │ \"P40\"  │ 0.000703332  │\n",
       "│ 16  │ \"B4\" │ \"B\" │ \"4\" │ \"P41\"  │ 0.00526673   │\n",
       "│ 17  │ \"B4\" │ \"B\" │ \"4\" │ \"P42\"  │ 0.00323161   │\n",
       "│ 18  │ \"B4\" │ \"B\" │ \"4\" │ \"P43\"  │ 0.00217077   │\n",
       "│ 19  │ \"B6\" │ \"B\" │ \"6\" │ \"P36\"  │ 0.00222151   │\n",
       "│ 20  │ \"B6\" │ \"B\" │ \"6\" │ \"P39\"  │ -0.000616388 │"
      ]
     },
     "execution_count": 103,
     "metadata": {},
     "output_type": "execute_result"
    }
   ],
   "source": [
    "DF"
   ]
  },
  {
   "cell_type": "code",
   "execution_count": 113,
   "metadata": {
    "collapsed": false
   },
   "outputs": [
    {
     "data": {
      "application/vnd.plotly.v1+json": "{\"layout\":{\"annotations\":[{\"text\":\"Rate of Swelling, [s<sup>-1</sup>]\",\"y\":0.6,\"textangle\":270,\"xref\":\"paper\",\"font\":{\"size\":15},\"showarrow\":false,\"yref\":\"paper\",\"x\":-0.1}],\"margin\":{\"r\":50,\"l\":80,\"b\":50,\"t\":60,\"pad\":0},\"boxmode\":\"group\"},\"data\":[{\"y\":[-0.003277982194447367,0.010592453217072053,0.01641251263118261,0.023062023093308102,0.0036819528356498493,0.004596469874328077,0.013075279999184529,0.011582466156692877,0.0058842729437888685,0.004205553206126686,0.002528932800442257,0.019755091334665294,-0.0008554310484928844,0.006042808050310238],\"name\":\"A\",\"type\":\"box\",\"x\":[\"4\",\"4\",\"4\",\"4\",\"4\",\"4\",\"4\",\"4\",\"6\",\"6\",\"6\",\"6\",\"6\",\"6\"],\"boxmean\":\"sd\"},{\"y\":[0.0007033317117660799,0.005266731288854772,0.003231614421290796,0.0021707668234577453,0.0022215101357668725,-0.0006163882733459819],\"name\":\"B\",\"type\":\"box\",\"x\":[\"4\",\"4\",\"4\",\"4\",\"6\",\"6\"],\"boxmean\":\"sd\"}]}",
      "text/html": [
       "<div id=\"ef85fa31-04d3-40ad-be25-59c0b9b9efe5\" class=\"plotly-graph-div\"></div>\n",
       "\n",
       "<script>\n",
       "    window.PLOTLYENV=window.PLOTLYENV || {};\n",
       "    window.PLOTLYENV.BASE_URL=\"https://plot.ly\";\n",
       "    require(['plotly'], function(Plotly) {\n",
       "        Plotly.newPlot('ef85fa31-04d3-40ad-be25-59c0b9b9efe5', [{\"y\":[-0.003277982194447367,0.010592453217072053,0.01641251263118261,0.023062023093308102,0.0036819528356498493,0.004596469874328077,0.013075279999184529,0.011582466156692877,0.0058842729437888685,0.004205553206126686,0.002528932800442257,0.019755091334665294,-0.0008554310484928844,0.006042808050310238],\"name\":\"A\",\"type\":\"box\",\"x\":[\"4\",\"4\",\"4\",\"4\",\"4\",\"4\",\"4\",\"4\",\"6\",\"6\",\"6\",\"6\",\"6\",\"6\"],\"boxmean\":\"sd\"},{\"y\":[0.0007033317117660799,0.005266731288854772,0.003231614421290796,0.0021707668234577453,0.0022215101357668725,-0.0006163882733459819],\"name\":\"B\",\"type\":\"box\",\"x\":[\"4\",\"4\",\"4\",\"4\",\"6\",\"6\"],\"boxmean\":\"sd\"}],\n",
       "               {\"annotations\":[{\"text\":\"Rate of Swelling, [s<sup>-1</sup>]\",\"y\":0.6,\"textangle\":270,\"xref\":\"paper\",\"font\":{\"size\":15},\"showarrow\":false,\"yref\":\"paper\",\"x\":-0.1}],\"margin\":{\"r\":50,\"l\":80,\"b\":50,\"t\":60,\"pad\":0},\"boxmode\":\"group\"}, {showLink: false});\n",
       "\n",
       "    });\n",
       " </script>\n"
      ]
     },
     "execution_count": 113,
     "metadata": {},
     "output_type": "execute_result"
    }
   ],
   "source": [
    " U = unique(DF[:Col])\n",
    "data3 = GenericTrace[]\n",
    "\n",
    "\n",
    "    Urows = unique(DF[:Row])\n",
    "    \n",
    "    for j = 1:length(Urows)\n",
    "        id2 = DF[:Row].==Urows[j]\n",
    "        trace1 = box(;x=DF[id2,:Col],y=DF[id2,:Slope],\n",
    "                  name=string(Urows[j]),boxmean=\"sd\")\n",
    "        push!(data3,trace1)\n",
    "    end\n",
    "\n",
    "layout = Layout(;boxmode=\"group\",\n",
    "    annotations=[attr(showarrow=false,\n",
    "            textangle=270,\n",
    "            text=\"Rate of Swelling, [s<sup>-1</sup>]\",\n",
    "            xref=\"paper\",\n",
    "            yref=\"paper\",\n",
    "            x=-.1,y=.6,\n",
    "            font_size=15)])\n",
    "PlotlyJS.plot(data3,layout)"
   ]
  },
  {
   "cell_type": "code",
   "execution_count": null,
   "metadata": {
    "collapsed": true
   },
   "outputs": [],
   "source": []
  }
 ],
 "metadata": {
  "anaconda-cloud": {},
  "kernelspec": {
   "display_name": "Julia 0.5.0",
   "language": "julia",
   "name": "julia-0.5"
  },
  "language_info": {
   "file_extension": ".jl",
   "mimetype": "application/julia",
   "name": "julia",
   "version": "0.5.0"
  }
 },
 "nbformat": 4,
 "nbformat_minor": 2
}
